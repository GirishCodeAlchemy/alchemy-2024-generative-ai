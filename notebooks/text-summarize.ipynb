{
 "cells": [
  {
   "cell_type": "code",
   "execution_count": 3,
   "metadata": {},
   "outputs": [],
   "source": [
    "import os\n",
    "import io\n",
    "from IPython.display import Image, display, HTML\n",
    "from PIL import Image\n",
    "import base64\n",
    "import sys\n",
    "\n",
    "sys.path.append(\"../\")\n",
    "\n",
    "from dotenv import load_dotenv, find_dotenv\n",
    "\n",
    "_ = load_dotenv(find_dotenv())  # read local .env file\n",
    "\n",
    "from alchemy import AlchemyAPI\n",
    "\n",
    "hf_api_key = os.environ[\"HF_API_KEY\"]"
   ]
  },
  {
   "cell_type": "code",
   "execution_count": 4,
   "metadata": {},
   "outputs": [
    {
     "data": {
      "text/plain": [
       "'https://api-inference.huggingface.co/models/sshleifer/distilbart-cnn-12-6'"
      ]
     },
     "execution_count": 4,
     "metadata": {},
     "output_type": "execute_result"
    }
   ],
   "source": [
    "MODEL = \"sshleifer/distilbart-cnn-12-6\"\n",
    "HF_API = f\"{os.environ['HF_API_BASE']}/{MODEL}\"\n",
    "HF_API"
   ]
  },
  {
   "cell_type": "code",
   "execution_count": null,
   "metadata": {},
   "outputs": [],
   "source": [
    "# import requests, json\n",
    "\n",
    "# #Summarization endpoint\n",
    "# def get_completion(inputs, parameters=None,ENDPOINT_URL=HF_API_SUMMARY_BASE):\n",
    "#     headers = {\n",
    "#       \"Authorization\": f\"Bearer {hf_api_key}\",\n",
    "#       \"Content-Type\": \"application/json\"\n",
    "#     }\n",
    "#     data = { \"inputs\": inputs }\n",
    "#     if parameters is not None:\n",
    "#         data.update({\"parameters\": parameters})\n",
    "#     response = requests.request(\"POST\",\n",
    "#                                 ENDPOINT_URL, headers=headers,\n",
    "#                                 data=json.dumps(data)\n",
    "#                                )\n",
    "#     return json.loads(response.content.decode(\"utf-8\"))"
   ]
  },
  {
   "cell_type": "code",
   "execution_count": 5,
   "metadata": {},
   "outputs": [],
   "source": [
    "alchemyapi = AlchemyAPI(hf_api_key, HF_API)"
   ]
  },
  {
   "cell_type": "code",
   "execution_count": 7,
   "metadata": {},
   "outputs": [
    {
     "data": {
      "text/plain": [
       "[{'summary_text': ' The tower is 324 metres (1,063 ft) tall, about the same height as an 81-storey building in Paris . It is the second tallest free-standing structure in France after the Millau Viaduct . It was the first structure in the world to reach a height of 300 metres . The Eiffel Tower is now taller than the Chrysler Building in New York City by 5.2 metres (17 ft)'}]"
      ]
     },
     "execution_count": 7,
     "metadata": {},
     "output_type": "execute_result"
    }
   ],
   "source": [
    "alchemyText = \"\"\"The tower is 324 metres (1,063 ft) tall, about the same height\n",
    "        as an 81-storey building, and the tallest structure in Paris.\n",
    "        Its base is square, measuring 125 metres (410 ft) on each side.\n",
    "        During its construction, the Eiffel Tower surpassed the Washington\n",
    "        Monument to become the tallest man-made structure in the world,\n",
    "        a title it held for 41 years until the Chrysler Building\n",
    "        in New York City was finished in 1930. It was the first structure\n",
    "        to reach a height of 300 metres. Due to the addition of a broadcasting\n",
    "        aerial at the top of the tower in 1957, it is now taller than the\n",
    "        Chrysler Building by 5.2 metres (17 ft). Excluding transmitters, the\n",
    "        Eiffel Tower is the second tallest free-standing structure in France\n",
    "        after the Millau Viaduct.\"\"\"\n",
    "\n",
    "alchemyapi.invoke_model(alchemyText)"
   ]
  },
  {
   "cell_type": "markdown",
   "metadata": {},
   "source": [
    "## Gradio Interface\n"
   ]
  },
  {
   "cell_type": "code",
   "execution_count": 8,
   "metadata": {},
   "outputs": [
    {
     "name": "stdout",
     "output_type": "stream",
     "text": [
      "Running on local URL:  http://127.0.0.1:7860\n",
      "\n",
      "To create a public link, set `share=True` in `launch()`.\n"
     ]
    },
    {
     "data": {
      "text/html": [
       "<div><iframe src=\"http://127.0.0.1:7860/\" width=\"100%\" height=\"500\" allow=\"autoplay; camera; microphone; clipboard-read; clipboard-write;\" frameborder=\"0\" allowfullscreen></iframe></div>"
      ],
      "text/plain": [
       "<IPython.core.display.HTML object>"
      ]
     },
     "metadata": {},
     "output_type": "display_data"
    },
    {
     "data": {
      "text/plain": []
     },
     "execution_count": 8,
     "metadata": {},
     "output_type": "execute_result"
    }
   ],
   "source": [
    "import gradio as gr\n",
    "\n",
    "\n",
    "def summarize(input):\n",
    "    output = alchemyapi.invoke_model(input)\n",
    "    return output[0][\"summary_text\"]\n",
    "\n",
    "\n",
    "gr.close_all()\n",
    "demo = gr.Interface(\n",
    "    fn=summarize,\n",
    "    inputs=[gr.Textbox(label=\"Text to summarize\", lines=6)],\n",
    "    outputs=[gr.Textbox(label=\"Result Summary\", lines=3)],\n",
    "    title=\"Summarize Text\",\n",
    "    description=\"Summarize text using GPT-3\",\n",
    "    examples=[alchemyText],\n",
    ")\n",
    "demo.launch()\n",
    "# demo.launch(share=True)\n",
    "# demo.launch(share=True, server_port=int(os.environ['PORT1']))"
   ]
  },
  {
   "cell_type": "markdown",
   "metadata": {},
   "source": [
    "# Manual Model invocation\n"
   ]
  },
  {
   "cell_type": "code",
   "execution_count": 9,
   "metadata": {},
   "outputs": [
    {
     "name": "stderr",
     "output_type": "stream",
     "text": [
      "2024-02-15 19:43:40.304561: I tensorflow/core/platform/cpu_feature_guard.cc:182] This TensorFlow binary is optimized to use available CPU instructions in performance-critical operations.\n",
      "To enable the following instructions: AVX2 FMA, in other operations, rebuild TensorFlow with the appropriate compiler flags.\n"
     ]
    },
    {
     "data": {
      "text/plain": [
       "' The tower is 324 metres (1,063 ft) tall, about the same height as an 81-storey building in Paris . It is the second tallest free-standing structure in France after the Millau Viaduct . It was the first structure in the world to reach a height of 300 metres . The Eiffel Tower is now taller than the Chrysler Building in New York City by 5.2 metres (17 ft)'"
      ]
     },
     "execution_count": 9,
     "metadata": {},
     "output_type": "execute_result"
    }
   ],
   "source": [
    "from transformers import pipeline\n",
    "\n",
    "get_completion = pipeline(\"summarization\", model=MODEL)\n",
    "\n",
    "\n",
    "def summarize(input):\n",
    "    output = get_completion(input)\n",
    "    return output[0][\"summary_text\"]\n",
    "\n",
    "\n",
    "summarize(alchemyText)"
   ]
  }
 ],
 "metadata": {
  "kernelspec": {
   "display_name": "py310",
   "language": "python",
   "name": "python3"
  },
  "language_info": {
   "codemirror_mode": {
    "name": "ipython",
    "version": 3
   },
   "file_extension": ".py",
   "mimetype": "text/x-python",
   "name": "python",
   "nbconvert_exporter": "python",
   "pygments_lexer": "ipython3",
   "version": "3.10.13"
  }
 },
 "nbformat": 4,
 "nbformat_minor": 2
}
