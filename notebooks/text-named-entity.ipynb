{
 "cells": [
  {
   "cell_type": "code",
   "execution_count": 1,
   "metadata": {},
   "outputs": [],
   "source": [
    "import os\n",
    "import sys\n",
    "\n",
    "sys.path.append(\"../\")\n",
    "from dotenv import load_dotenv, find_dotenv\n",
    "\n",
    "_ = load_dotenv(find_dotenv())  # read local .env file\n",
    "from alchemy import AlchemyAPI\n",
    "\n",
    "hf_api_key = os.environ[\"HF_API_KEY\"]"
   ]
  },
  {
   "cell_type": "code",
   "execution_count": 2,
   "metadata": {},
   "outputs": [
    {
     "data": {
      "text/plain": [
       "'https://api-inference.huggingface.co/models/dslim/bert-base-NER'"
      ]
     },
     "execution_count": 2,
     "metadata": {},
     "output_type": "execute_result"
    }
   ],
   "source": [
    "MODEL = \"dslim/bert-base-NER\"\n",
    "HF_API = f\"{os.environ['HF_API_BASE']}/{MODEL}\"\n",
    "HF_API"
   ]
  },
  {
   "cell_type": "code",
   "execution_count": 3,
   "metadata": {},
   "outputs": [],
   "source": [
    "alchemyapi = AlchemyAPI(hf_api_key, HF_API)"
   ]
  },
  {
   "cell_type": "code",
   "execution_count": 4,
   "metadata": {},
   "outputs": [
    {
     "data": {
      "text/plain": [
       "[{'entity_group': 'PER',\n",
       "  'score': 0.9990140199661255,\n",
       "  'word': 'G',\n",
       "  'start': 11,\n",
       "  'end': 12},\n",
       " {'entity_group': 'PER',\n",
       "  'score': 0.8276980519294739,\n",
       "  'word': '##iri',\n",
       "  'start': 12,\n",
       "  'end': 15},\n",
       " {'entity_group': 'PER',\n",
       "  'score': 0.37389782071113586,\n",
       "  'word': '##sh',\n",
       "  'start': 15,\n",
       "  'end': 17},\n",
       " {'entity_group': 'MISC',\n",
       "  'score': 0.590412974357605,\n",
       "  'word': 'GenerativeA',\n",
       "  'start': 32,\n",
       "  'end': 43},\n",
       " {'entity_group': 'LOC',\n",
       "  'score': 0.999776303768158,\n",
       "  'word': 'Canada',\n",
       "  'start': 59,\n",
       "  'end': 65},\n",
       " {'entity_group': 'ORG',\n",
       "  'score': 0.7062660455703735,\n",
       "  'word': 'Giri',\n",
       "  'start': 92,\n",
       "  'end': 96},\n",
       " {'entity_group': 'ORG',\n",
       "  'score': 0.9375653266906738,\n",
       "  'word': '##CodeAlchemy',\n",
       "  'start': 98,\n",
       "  'end': 109}]"
      ]
     },
     "execution_count": 4,
     "metadata": {},
     "output_type": "execute_result"
    }
   ],
   "source": [
    "alchemyText = \"My name is Girish, I'm learning GenerativeAI and I live in Canada and i have github repo by GirishCodeAlchemy\"\n",
    "alchemyapi.invoke_model(alchemyText)"
   ]
  },
  {
   "cell_type": "markdown",
   "metadata": {},
   "source": [
    "## Gradio Interface\n"
   ]
  },
  {
   "cell_type": "code",
   "execution_count": 5,
   "metadata": {},
   "outputs": [
    {
     "name": "stdout",
     "output_type": "stream",
     "text": [
      "Running on local URL:  http://127.0.0.1:7862\n",
      "\n",
      "To create a public link, set `share=True` in `launch()`.\n"
     ]
    },
    {
     "data": {
      "text/html": [
       "<div><iframe src=\"http://127.0.0.1:7862/\" width=\"100%\" height=\"500\" allow=\"autoplay; camera; microphone; clipboard-read; clipboard-write;\" frameborder=\"0\" allowfullscreen></iframe></div>"
      ],
      "text/plain": [
       "<IPython.core.display.HTML object>"
      ]
     },
     "metadata": {},
     "output_type": "display_data"
    },
    {
     "data": {
      "text/plain": []
     },
     "execution_count": 5,
     "metadata": {},
     "output_type": "execute_result"
    }
   ],
   "source": [
    "import gradio as gr\n",
    "\n",
    "\n",
    "def named_entity(input):\n",
    "    output = alchemyapi.invoke_model(input)\n",
    "    return {\"text\": input, \"entities\": output}\n",
    "\n",
    "\n",
    "demo = gr.Interface(\n",
    "    fn=named_entity,\n",
    "    inputs=[gr.Textbox(label=\"Text to find entities\", lines=2)],\n",
    "    outputs=[gr.HighlightedText(label=\"Text with entities\")],\n",
    "    title=\"NER with dslim/bert-base-NER\",\n",
    "    description=\"Find entities using the `dslim/bert-base-NER` model under the hood!\",\n",
    "    allow_flagging=\"never\",\n",
    "    # Here we introduce a new tag, examples, easy to use examples for your application\n",
    "    examples=[alchemyText],\n",
    ")\n",
    "demo.launch()"
   ]
  },
  {
   "cell_type": "markdown",
   "metadata": {},
   "source": [
    "### Adding a helper function to merge tokens\n"
   ]
  },
  {
   "cell_type": "code",
   "execution_count": 6,
   "metadata": {},
   "outputs": [],
   "source": [
    "def merge_tokens(tokens):\n",
    "    merged_tokens = []\n",
    "    for token in tokens:\n",
    "        if (\n",
    "            merged_tokens\n",
    "            and merged_tokens[-1][\"entity_group\"] == token[\"entity_group\"]\n",
    "            and merged_tokens[-1][\"end\"] == token[\"start\"]  # Ensure continuity\n",
    "        ):\n",
    "            # If the current token continues the previous token, merge them\n",
    "            last_token = merged_tokens[-1]\n",
    "            last_token[\"word\"] += token[\"word\"].replace(\"##\", \"\")\n",
    "            last_token[\"end\"] = token[\"end\"]\n",
    "            last_token[\"score\"] = (last_token[\"score\"] + token[\"score\"]) / 2\n",
    "        else:\n",
    "            # Otherwise, add the token to the list\n",
    "            merged_tokens.append(token)\n",
    "\n",
    "    return merged_tokens"
   ]
  },
  {
   "cell_type": "code",
   "execution_count": 7,
   "metadata": {},
   "outputs": [],
   "source": [
    "def named_entity(input):\n",
    "    output = alchemyapi.invoke_model(input)\n",
    "    merge_token = merge_tokens(output)\n",
    "    return {\"text\": input, \"entities\": merge_token}"
   ]
  },
  {
   "cell_type": "code",
   "execution_count": 8,
   "metadata": {},
   "outputs": [
    {
     "name": "stdout",
     "output_type": "stream",
     "text": [
      "Closing server running on port: 7862\n",
      "Running on local URL:  http://127.0.0.1:7862\n",
      "\n",
      "To create a public link, set `share=True` in `launch()`.\n"
     ]
    },
    {
     "data": {
      "text/html": [
       "<div><iframe src=\"http://127.0.0.1:7862/\" width=\"100%\" height=\"500\" allow=\"autoplay; camera; microphone; clipboard-read; clipboard-write;\" frameborder=\"0\" allowfullscreen></iframe></div>"
      ],
      "text/plain": [
       "<IPython.core.display.HTML object>"
      ]
     },
     "metadata": {},
     "output_type": "display_data"
    },
    {
     "data": {
      "text/plain": []
     },
     "execution_count": 8,
     "metadata": {},
     "output_type": "execute_result"
    }
   ],
   "source": [
    "gr.close_all()\n",
    "\n",
    "demo = gr.Interface(\n",
    "    fn=named_entity,\n",
    "    inputs=[gr.Textbox(label=\"Text to find entities\", lines=2)],\n",
    "    outputs=[gr.HighlightedText(label=\"Text with entities\")],\n",
    "    title=\"NER with dslim/bert-base-NER\",\n",
    "    description=\"Find entities using the `dslim/bert-base-NER` model under the hood!\",\n",
    "    allow_flagging=\"never\",\n",
    "    # Here we introduce a new tag, examples, easy to use examples for your application\n",
    "    examples=[alchemyText],\n",
    ")\n",
    "demo.launch()"
   ]
  },
  {
   "cell_type": "code",
   "execution_count": 9,
   "metadata": {},
   "outputs": [
    {
     "name": "stdout",
     "output_type": "stream",
     "text": [
      "Closing server running on port: 7862\n",
      "Closing server running on port: 7862\n"
     ]
    }
   ],
   "source": [
    "gr.close_all()"
   ]
  },
  {
   "cell_type": "markdown",
   "metadata": {},
   "source": [
    "# Manual Model invocation\n"
   ]
  },
  {
   "cell_type": "code",
   "execution_count": 10,
   "metadata": {},
   "outputs": [
    {
     "name": "stderr",
     "output_type": "stream",
     "text": [
      "2024-02-15 19:45:51.916069: I tensorflow/core/platform/cpu_feature_guard.cc:182] This TensorFlow binary is optimized to use available CPU instructions in performance-critical operations.\n",
      "To enable the following instructions: AVX2 FMA, in other operations, rebuild TensorFlow with the appropriate compiler flags.\n",
      "Some weights of the model checkpoint at dslim/bert-base-NER were not used when initializing BertForTokenClassification: ['bert.pooler.dense.bias', 'bert.pooler.dense.weight']\n",
      "- This IS expected if you are initializing BertForTokenClassification from the checkpoint of a model trained on another task or with another architecture (e.g. initializing a BertForSequenceClassification model from a BertForPreTraining model).\n",
      "- This IS NOT expected if you are initializing BertForTokenClassification from the checkpoint of a model that you expect to be exactly identical (initializing a BertForSequenceClassification model from a BertForSequenceClassification model).\n"
     ]
    },
    {
     "data": {
      "text/plain": [
       "{'text': \"My name is Girish, I'm learning GenerativeAI and I live in Canada and i have github repo by GirishCodeAlchemy\",\n",
       " 'entities': [{'entity': 'B-PER',\n",
       "   'score': 0.999014,\n",
       "   'index': 4,\n",
       "   'word': 'G',\n",
       "   'start': 11,\n",
       "   'end': 12},\n",
       "  {'entity': 'B-PER',\n",
       "   'score': 0.8276972,\n",
       "   'index': 5,\n",
       "   'word': '##iri',\n",
       "   'start': 12,\n",
       "   'end': 15},\n",
       "  {'entity': 'B-PER',\n",
       "   'score': 0.37389728,\n",
       "   'index': 6,\n",
       "   'word': '##sh',\n",
       "   'start': 15,\n",
       "   'end': 17},\n",
       "  {'entity': 'B-MISC',\n",
       "   'score': 0.73191583,\n",
       "   'index': 12,\n",
       "   'word': 'Gene',\n",
       "   'start': 32,\n",
       "   'end': 36},\n",
       "  {'entity': 'I-MISC',\n",
       "   'score': 0.56740975,\n",
       "   'index': 13,\n",
       "   'word': '##rative',\n",
       "   'start': 36,\n",
       "   'end': 42},\n",
       "  {'entity': 'I-MISC',\n",
       "   'score': 0.471914,\n",
       "   'index': 14,\n",
       "   'word': '##A',\n",
       "   'start': 42,\n",
       "   'end': 43},\n",
       "  {'entity': 'B-LOC',\n",
       "   'score': 0.9997763,\n",
       "   'index': 20,\n",
       "   'word': 'Canada',\n",
       "   'start': 59,\n",
       "   'end': 65},\n",
       "  {'entity': 'B-ORG',\n",
       "   'score': 0.93222725,\n",
       "   'index': 30,\n",
       "   'word': 'G',\n",
       "   'start': 92,\n",
       "   'end': 93},\n",
       "  {'entity': 'I-ORG',\n",
       "   'score': 0.48030436,\n",
       "   'index': 31,\n",
       "   'word': '##iri',\n",
       "   'start': 93,\n",
       "   'end': 96},\n",
       "  {'entity': 'I-ORG',\n",
       "   'score': 0.943215,\n",
       "   'index': 33,\n",
       "   'word': '##C',\n",
       "   'start': 98,\n",
       "   'end': 99},\n",
       "  {'entity': 'I-ORG',\n",
       "   'score': 0.8607729,\n",
       "   'index': 34,\n",
       "   'word': '##ode',\n",
       "   'start': 99,\n",
       "   'end': 102},\n",
       "  {'entity': 'I-ORG',\n",
       "   'score': 0.99452764,\n",
       "   'index': 35,\n",
       "   'word': '##A',\n",
       "   'start': 102,\n",
       "   'end': 103},\n",
       "  {'entity': 'I-ORG',\n",
       "   'score': 0.91088486,\n",
       "   'index': 36,\n",
       "   'word': '##l',\n",
       "   'start': 103,\n",
       "   'end': 104},\n",
       "  {'entity': 'I-ORG',\n",
       "   'score': 0.9832919,\n",
       "   'index': 37,\n",
       "   'word': '##che',\n",
       "   'start': 104,\n",
       "   'end': 107},\n",
       "  {'entity': 'I-ORG',\n",
       "   'score': 0.9326991,\n",
       "   'index': 38,\n",
       "   'word': '##my',\n",
       "   'start': 107,\n",
       "   'end': 109}]}"
      ]
     },
     "execution_count": 10,
     "metadata": {},
     "output_type": "execute_result"
    }
   ],
   "source": [
    "from transformers import pipeline\n",
    "\n",
    "get_completion = pipeline(\"ner\", model=\"dslim/bert-base-NER\")\n",
    "\n",
    "\n",
    "def ner(input):\n",
    "    output = get_completion(input)\n",
    "    return {\"text\": input, \"entities\": output}\n",
    "\n",
    "\n",
    "ner(alchemyText)"
   ]
  }
 ],
 "metadata": {
  "kernelspec": {
   "display_name": "py310",
   "language": "python",
   "name": "python3"
  },
  "language_info": {
   "codemirror_mode": {
    "name": "ipython",
    "version": 3
   },
   "file_extension": ".py",
   "mimetype": "text/x-python",
   "name": "python",
   "nbconvert_exporter": "python",
   "pygments_lexer": "ipython3",
   "version": "3.10.13"
  }
 },
 "nbformat": 4,
 "nbformat_minor": 2
}
